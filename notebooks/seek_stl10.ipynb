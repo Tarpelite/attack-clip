{
 "cells": [
  {
   "cell_type": "code",
   "execution_count": 1,
   "id": "empty-detector",
   "metadata": {},
   "outputs": [],
   "source": [
    "import sys\n",
    "import os, sys, tarfile, errno\n",
    "import numpy as np\n",
    "import matplotlib.pyplot as plt"
   ]
  },
  {
   "cell_type": "code",
   "execution_count": 2,
   "id": "spectacular-collection",
   "metadata": {},
   "outputs": [],
   "source": [
    "DATA_DIR=\"../data/stl10_binary/test_X.bin\"\n",
    "LABEL_DIR=\"../data/stl10_binary/test_y.bin\""
   ]
  },
  {
   "cell_type": "code",
   "execution_count": 3,
   "id": "passing-blind",
   "metadata": {},
   "outputs": [],
   "source": [
    "def read_labels(path_to_labels):\n",
    "    \"\"\"\n",
    "    :param path_to_labels: path to the binary file containing labels from the STL-10 dataset\n",
    "    :return: an array containing the labels\n",
    "    \"\"\"\n",
    "    with open(path_to_labels, 'rb') as f:\n",
    "        labels = np.fromfile(f, dtype=np.uint8)\n",
    "        return labels"
   ]
  },
  {
   "cell_type": "code",
   "execution_count": 4,
   "id": "coastal-consensus",
   "metadata": {},
   "outputs": [],
   "source": [
    "def read_all_images(path_to_data):\n",
    "    \"\"\"\n",
    "    :param path_to_data: the file containing the binary images from the STL-10 dataset\n",
    "    :return: an array containing all the images\n",
    "    \"\"\"\n",
    "\n",
    "    with open(path_to_data, 'rb') as f:\n",
    "        # read whole file in uint8 chunks\n",
    "        everything = np.fromfile(f, dtype=np.uint8)\n",
    "\n",
    "        # We force the data into 3x96x96 chunks, since the\n",
    "        # images are stored in \"column-major order\", meaning\n",
    "        # that \"the first 96*96 values are the red channel,\n",
    "        # the next 96*96 are green, and the last are blue.\"\n",
    "        # The -1 is since the size of the pictures depends\n",
    "        # on the input file, and this way numpy determines\n",
    "        # the size on its own.\n",
    "\n",
    "        images = np.reshape(everything, (-1, 3, 96, 96))\n",
    "\n",
    "        # Now transpose the images into a standard image format\n",
    "        # readable by, for example, matplotlib.imshow\n",
    "        # You might want to comment this line or reverse the shuffle\n",
    "        # if you will use a learning algorithm like CNN, since they like\n",
    "        # their channels separated.\n",
    "        images = np.transpose(images, (0, 3, 2, 1))\n",
    "        return images"
   ]
  },
  {
   "cell_type": "code",
   "execution_count": 18,
   "id": "finite-barbados",
   "metadata": {},
   "outputs": [
    {
     "data": {
      "text/plain": [
       "array([ 7,  8,  6,  1,  4,  2,  2,  2,  5,  5,  1,  1,  5,  1,  2,  6,  5,\n",
       "       10,  1,  7,  6,  4,  2,  4,  3,  7,  6,  6,  3,  8,  2,  7,  4,  8,\n",
       "       10,  3,  5,  8, 10,  6,  2, 10,  1,  7,  5, 10,  2,  2,  4,  3,  6,\n",
       "        5,  1,  1, 10,  9,  7,  8,  3,  1,  1,  2,  2,  8, 10,  7,  2,  9,\n",
       "        1,  5,  3,  2,  8,  2,  3,  8,  6,  4,  6,  8,  4,  1, 10,  4,  1,\n",
       "        2,  9,  1,  3,  6,  5,  2,  4,  7,  6,  2,  8,  6,  9,  6],\n",
       "      dtype=uint8)"
      ]
     },
     "execution_count": 18,
     "metadata": {},
     "output_type": "execute_result"
    }
   ],
   "source": [
    "labels = read_labels(LABEL_DIR)\n",
    "labels[:100]"
   ]
  },
  {
   "cell_type": "code",
   "execution_count": 7,
   "id": "innovative-steel",
   "metadata": {},
   "outputs": [],
   "source": [
    "images = read_all_images(DATA_DIR)"
   ]
  },
  {
   "cell_type": "code",
   "execution_count": 9,
   "id": "imperial-report",
   "metadata": {},
   "outputs": [
    {
     "data": {
      "image/png": "[encoded data removed]",
      "text/plain": [
       "<PIL.Image.Image image mode=RGB size=96x96 at 0x7F10E99BF580>"
      ]
     },
     "execution_count": 9,
     "metadata": {},
     "output_type": "execute_result"
    }
   ],
   "source": [
    "from PIL import Image\n",
    "Image.fromarray(images[1])"
   ]
  },
  {
   "cell_type": "code",
   "execution_count": 10,
   "id": "continuous-comment",
   "metadata": {},
   "outputs": [],
   "source": [
    "import clip\n",
    "import torch\n",
    "device = \"cuda\" if torch.cuda.is_available() else \"cpu\"\n",
    "clip_model, clip_preprocess = clip.load(\"ViT-B/32\", device=device, jit=False)"
   ]
  },
  {
   "cell_type": "code",
   "execution_count": 13,
   "id": "dental-style",
   "metadata": {},
   "outputs": [
    {
     "data": {
      "text/plain": [
       "torch.Size([3, 224, 224])"
      ]
     },
     "execution_count": 13,
     "metadata": {},
     "output_type": "execute_result"
    }
   ],
   "source": [
    "clip_preprocess(Image.fromarray(images[0])).shape"
   ]
  },
  {
   "cell_type": "code",
   "execution_count": 14,
   "id": "solved-runner",
   "metadata": {},
   "outputs": [],
   "source": [
    "class_file = \"../data/stl10_binary/class_names.txt\""
   ]
  },
  {
   "cell_type": "code",
   "execution_count": 17,
   "id": "productive-workstation",
   "metadata": {},
   "outputs": [
    {
     "data": {
      "text/plain": [
       "['airplane',\n",
       " 'bird',\n",
       " 'car',\n",
       " 'cat',\n",
       " 'deer',\n",
       " 'dog',\n",
       " 'horse',\n",
       " 'monkey',\n",
       " 'ship',\n",
       " 'truck']"
      ]
     },
     "execution_count": 17,
     "metadata": {},
     "output_type": "execute_result"
    }
   ],
   "source": [
    "classes = []\n",
    "with open(class_file, \"r\", encoding=\"utf-8\") as f:\n",
    "    for line in f.readlines():\n",
    "        classes.append(line.strip())\n",
    "classes"
   ]
  }
 ],
 "metadata": {
  "kernelspec": {
   "display_name": "Python 3",
   "language": "python",
   "name": "python3"
  },
  "language_info": {
   "codemirror_mode": {
    "name": "ipython",
    "version": 3
   },
   "file_extension": ".py",
   "mimetype": "text/x-python",
   "name": "python",
   "nbconvert_exporter": "python",
   "pygments_lexer": "ipython3",
   "version": "3.8.8"
  }
 },
 "nbformat": 4,
 "nbformat_minor": 5
}
